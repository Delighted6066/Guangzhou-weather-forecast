{
 "cells": [
  {
   "cell_type": "code",
   "execution_count": 2,
   "metadata": {},
   "outputs": [
    {
     "data": {
      "text/html": [
       "<div>\n",
       "<style scoped>\n",
       "    .dataframe tbody tr th:only-of-type {\n",
       "        vertical-align: middle;\n",
       "    }\n",
       "\n",
       "    .dataframe tbody tr th {\n",
       "        vertical-align: top;\n",
       "    }\n",
       "\n",
       "    .dataframe thead th {\n",
       "        text-align: right;\n",
       "    }\n",
       "</style>\n",
       "<table border=\"1\" class=\"dataframe\">\n",
       "  <thead>\n",
       "    <tr style=\"text-align: right;\">\n",
       "      <th></th>\n",
       "      <th>year</th>\n",
       "      <th>month</th>\n",
       "      <th>day</th>\n",
       "      <th>weekday</th>\n",
       "      <th>temp_2</th>\n",
       "      <th>temp_1</th>\n",
       "      <th>avg_temp</th>\n",
       "      <th>actual</th>\n",
       "      <th>guess</th>\n",
       "    </tr>\n",
       "  </thead>\n",
       "  <tbody>\n",
       "    <tr>\n",
       "      <th>0</th>\n",
       "      <td>2018</td>\n",
       "      <td>5</td>\n",
       "      <td>1</td>\n",
       "      <td>Tuesday</td>\n",
       "      <td>28</td>\n",
       "      <td>29</td>\n",
       "      <td>27.0</td>\n",
       "      <td>30</td>\n",
       "      <td>24</td>\n",
       "    </tr>\n",
       "    <tr>\n",
       "      <th>1</th>\n",
       "      <td>2018</td>\n",
       "      <td>5</td>\n",
       "      <td>2</td>\n",
       "      <td>Wednesday</td>\n",
       "      <td>29</td>\n",
       "      <td>30</td>\n",
       "      <td>27.0</td>\n",
       "      <td>31</td>\n",
       "      <td>23</td>\n",
       "    </tr>\n",
       "    <tr>\n",
       "      <th>2</th>\n",
       "      <td>2018</td>\n",
       "      <td>5</td>\n",
       "      <td>3</td>\n",
       "      <td>Thursday</td>\n",
       "      <td>30</td>\n",
       "      <td>31</td>\n",
       "      <td>26.5</td>\n",
       "      <td>30</td>\n",
       "      <td>23</td>\n",
       "    </tr>\n",
       "    <tr>\n",
       "      <th>3</th>\n",
       "      <td>2018</td>\n",
       "      <td>5</td>\n",
       "      <td>4</td>\n",
       "      <td>Friday</td>\n",
       "      <td>31</td>\n",
       "      <td>30</td>\n",
       "      <td>24.5</td>\n",
       "      <td>27</td>\n",
       "      <td>22</td>\n",
       "    </tr>\n",
       "    <tr>\n",
       "      <th>4</th>\n",
       "      <td>2018</td>\n",
       "      <td>5</td>\n",
       "      <td>5</td>\n",
       "      <td>Saturday</td>\n",
       "      <td>30</td>\n",
       "      <td>27</td>\n",
       "      <td>27.0</td>\n",
       "      <td>30</td>\n",
       "      <td>24</td>\n",
       "    </tr>\n",
       "    <tr>\n",
       "      <th>5</th>\n",
       "      <td>2018</td>\n",
       "      <td>5</td>\n",
       "      <td>6</td>\n",
       "      <td>Sunday</td>\n",
       "      <td>27</td>\n",
       "      <td>30</td>\n",
       "      <td>27.0</td>\n",
       "      <td>30</td>\n",
       "      <td>24</td>\n",
       "    </tr>\n",
       "    <tr>\n",
       "      <th>6</th>\n",
       "      <td>2018</td>\n",
       "      <td>5</td>\n",
       "      <td>7</td>\n",
       "      <td>Monday</td>\n",
       "      <td>30</td>\n",
       "      <td>30</td>\n",
       "      <td>25.5</td>\n",
       "      <td>29</td>\n",
       "      <td>22</td>\n",
       "    </tr>\n",
       "    <tr>\n",
       "      <th>7</th>\n",
       "      <td>2018</td>\n",
       "      <td>5</td>\n",
       "      <td>8</td>\n",
       "      <td>Tuesday</td>\n",
       "      <td>30</td>\n",
       "      <td>29</td>\n",
       "      <td>24.0</td>\n",
       "      <td>26</td>\n",
       "      <td>22</td>\n",
       "    </tr>\n",
       "    <tr>\n",
       "      <th>8</th>\n",
       "      <td>2018</td>\n",
       "      <td>5</td>\n",
       "      <td>9</td>\n",
       "      <td>Wednesday</td>\n",
       "      <td>29</td>\n",
       "      <td>26</td>\n",
       "      <td>24.5</td>\n",
       "      <td>27</td>\n",
       "      <td>22</td>\n",
       "    </tr>\n",
       "    <tr>\n",
       "      <th>9</th>\n",
       "      <td>2018</td>\n",
       "      <td>5</td>\n",
       "      <td>10</td>\n",
       "      <td>Thursday</td>\n",
       "      <td>26</td>\n",
       "      <td>27</td>\n",
       "      <td>24.0</td>\n",
       "      <td>26</td>\n",
       "      <td>22</td>\n",
       "    </tr>\n",
       "  </tbody>\n",
       "</table>\n",
       "</div>"
      ],
      "text/plain": [
       "   year  month  day    weekday  temp_2  temp_1  avg_temp  actual  guess\n",
       "0  2018      5    1    Tuesday      28      29      27.0      30     24\n",
       "1  2018      5    2  Wednesday      29      30      27.0      31     23\n",
       "2  2018      5    3   Thursday      30      31      26.5      30     23\n",
       "3  2018      5    4     Friday      31      30      24.5      27     22\n",
       "4  2018      5    5   Saturday      30      27      27.0      30     24\n",
       "5  2018      5    6     Sunday      27      30      27.0      30     24\n",
       "6  2018      5    7     Monday      30      30      25.5      29     22\n",
       "7  2018      5    8    Tuesday      30      29      24.0      26     22\n",
       "8  2018      5    9  Wednesday      29      26      24.5      27     22\n",
       "9  2018      5   10   Thursday      26      27      24.0      26     22"
      ]
     },
     "execution_count": 2,
     "metadata": {},
     "output_type": "execute_result"
    }
   ],
   "source": [
    "import numpy as np\n",
    "import pandas as pd\n",
    "import csv\n",
    "import time\n",
    "import matplotlib.pyplot as plt\n",
    "import matplotlib\n",
    "\n",
    "matplotlib.rcParams['font.sans-serif'] = ['SimHei']\n",
    "matplotlib.rcParams['axes.unicode_minus'] = False\n",
    "# 设置输出结果列对齐\n",
    "pd.set_option('display.unicode.ambiguous_as_wide', True)\n",
    "pd.set_option('display.unicode.east_asian_width', True)\n",
    "df = pd.read_csv(r\"C:\\Users\\邓亮\\Documents\\爬虫文件\\广州近五年天气数据.csv\")\n",
    "df[\"日期\"] = df[\"日期\"].str.strip(\"广州天气预报\")\n",
    "df['日期'] = pd.to_datetime(df['日期'], format='%Y年%m月%d日')\n",
    "\n",
    "df['weekday'] = pd.to_datetime(df['日期']).dt.day_name()\n",
    "# df['weekday'] = df['weekday'].str.strftime('%a')\n",
    "\n",
    "df[\"最高温\"] = df[\"最高温\"].str.replace('℃', '').astype(int)\n",
    "df[\"最低温\"] = df[\"最低温\"].str.replace('℃', '').astype(int)\n",
    "df = df.assign(avg_temp=(df['最高温'] + df['最低温']) / 2)\n",
    "\n",
    "new_columns = {'日期': 'date', '天气': 'weather','最低温': 'min_temp','最高温': 'max_temp','风向风力':'wind','是否为恶劣天气':'severe'}\n",
    "df = df.rename(columns=new_columns)\n",
    "\n",
    "new_columns = ['date', 'weekday', 'min_temp','max_temp','avg_temp','weather','wind','severe']\n",
    "df = df[new_columns]\n",
    "\n",
    "df = df.drop(['weather','wind','severe'], axis=1)\n",
    "\n",
    "df['year'] = pd.to_datetime(df['date']).dt.year\n",
    "df['month'] = pd.to_datetime(df['date']).dt.month\n",
    "df['day'] = pd.to_datetime(df['date']).dt.day\n",
    "\n",
    "df = df.drop(['date'], axis=1)\n",
    "\n",
    "new_columns = ['year', 'month', 'day','weekday','min_temp','max_temp','avg_temp']\n",
    "df = df[new_columns]\n",
    "\n",
    "df['temp_1'] = df['max_temp'].shift()  # temp_1：昨天的最高温度值\n",
    "\n",
    "# 手动补充缺失值\n",
    "df['temp_1'] = df['temp_1'].fillna(29)\n",
    "df['temp_1'] = df['temp_1'].astype(int)\n",
    "\n",
    "df['temp_2'] = df['max_temp'].shift(2)  # temp_2：前天的最高温度值\n",
    "\n",
    "# 手动补充连续的两个缺失值，分别为不同的值\n",
    "mask = df['temp_2'].isnull() & df['temp_2'].shift().isnull()\n",
    "df.loc[mask, 'temp_2'] = [28, 29]\n",
    "df['temp_2'] = df['temp_2'].astype(int)\n",
    "\n",
    "new_columns = ['year', 'month', 'day','weekday','temp_2','temp_1','avg_temp','max_temp','min_temp']\n",
    "df = df[new_columns]\n",
    "\n",
    "new_columns = {'max_temp': 'actual', 'min_temp': 'guess'}\n",
    "df = df.rename(columns=new_columns)\n",
    "\n",
    "df.head(10)"
   ]
  },
  {
   "cell_type": "code",
   "execution_count": 3,
   "metadata": {},
   "outputs": [
    {
     "name": "stdout",
     "output_type": "stream",
     "text": [
      "数据维度: (1862, 9)\n"
     ]
    }
   ],
   "source": [
    "print('数据维度:', df.shape)"
   ]
  },
  {
   "cell_type": "code",
   "execution_count": 4,
   "metadata": {},
   "outputs": [
    {
     "data": {
      "text/html": [
       "<div>\n",
       "<style scoped>\n",
       "    .dataframe tbody tr th:only-of-type {\n",
       "        vertical-align: middle;\n",
       "    }\n",
       "\n",
       "    .dataframe tbody tr th {\n",
       "        vertical-align: top;\n",
       "    }\n",
       "\n",
       "    .dataframe thead th {\n",
       "        text-align: right;\n",
       "    }\n",
       "</style>\n",
       "<table border=\"1\" class=\"dataframe\">\n",
       "  <thead>\n",
       "    <tr style=\"text-align: right;\">\n",
       "      <th></th>\n",
       "      <th>year</th>\n",
       "      <th>month</th>\n",
       "      <th>day</th>\n",
       "      <th>temp_2</th>\n",
       "      <th>temp_1</th>\n",
       "      <th>avg_temp</th>\n",
       "      <th>actual</th>\n",
       "      <th>guess</th>\n",
       "    </tr>\n",
       "  </thead>\n",
       "  <tbody>\n",
       "    <tr>\n",
       "      <th>count</th>\n",
       "      <td>1862.000000</td>\n",
       "      <td>1862.000000</td>\n",
       "      <td>1862.000000</td>\n",
       "      <td>1862.000000</td>\n",
       "      <td>1862.000000</td>\n",
       "      <td>1862.000000</td>\n",
       "      <td>1862.000000</td>\n",
       "      <td>1862.000000</td>\n",
       "    </tr>\n",
       "    <tr>\n",
       "      <th>mean</th>\n",
       "      <td>2020.373255</td>\n",
       "      <td>6.501074</td>\n",
       "      <td>15.700859</td>\n",
       "      <td>27.473684</td>\n",
       "      <td>27.477981</td>\n",
       "      <td>23.615736</td>\n",
       "      <td>27.482277</td>\n",
       "      <td>19.749194</td>\n",
       "    </tr>\n",
       "    <tr>\n",
       "      <th>std</th>\n",
       "      <td>1.515031</td>\n",
       "      <td>3.423965</td>\n",
       "      <td>8.813379</td>\n",
       "      <td>6.088644</td>\n",
       "      <td>6.091837</td>\n",
       "      <td>5.939911</td>\n",
       "      <td>6.095731</td>\n",
       "      <td>6.047540</td>\n",
       "    </tr>\n",
       "    <tr>\n",
       "      <th>min</th>\n",
       "      <td>2018.000000</td>\n",
       "      <td>1.000000</td>\n",
       "      <td>1.000000</td>\n",
       "      <td>7.000000</td>\n",
       "      <td>7.000000</td>\n",
       "      <td>5.500000</td>\n",
       "      <td>7.000000</td>\n",
       "      <td>2.000000</td>\n",
       "    </tr>\n",
       "    <tr>\n",
       "      <th>25%</th>\n",
       "      <td>2019.000000</td>\n",
       "      <td>4.000000</td>\n",
       "      <td>8.000000</td>\n",
       "      <td>23.000000</td>\n",
       "      <td>23.000000</td>\n",
       "      <td>19.000000</td>\n",
       "      <td>23.000000</td>\n",
       "      <td>15.000000</td>\n",
       "    </tr>\n",
       "    <tr>\n",
       "      <th>50%</th>\n",
       "      <td>2020.000000</td>\n",
       "      <td>6.000000</td>\n",
       "      <td>16.000000</td>\n",
       "      <td>28.000000</td>\n",
       "      <td>28.000000</td>\n",
       "      <td>24.500000</td>\n",
       "      <td>28.000000</td>\n",
       "      <td>21.000000</td>\n",
       "    </tr>\n",
       "    <tr>\n",
       "      <th>75%</th>\n",
       "      <td>2022.000000</td>\n",
       "      <td>9.000000</td>\n",
       "      <td>23.000000</td>\n",
       "      <td>33.000000</td>\n",
       "      <td>33.000000</td>\n",
       "      <td>29.000000</td>\n",
       "      <td>33.000000</td>\n",
       "      <td>25.000000</td>\n",
       "    </tr>\n",
       "    <tr>\n",
       "      <th>max</th>\n",
       "      <td>2023.000000</td>\n",
       "      <td>12.000000</td>\n",
       "      <td>31.000000</td>\n",
       "      <td>39.000000</td>\n",
       "      <td>39.000000</td>\n",
       "      <td>33.500000</td>\n",
       "      <td>39.000000</td>\n",
       "      <td>29.000000</td>\n",
       "    </tr>\n",
       "  </tbody>\n",
       "</table>\n",
       "</div>"
      ],
      "text/plain": [
       "              year        month          day       temp_2       temp_1  \\\n",
       "count  1862.000000  1862.000000  1862.000000  1862.000000  1862.000000   \n",
       "mean   2020.373255     6.501074    15.700859    27.473684    27.477981   \n",
       "std       1.515031     3.423965     8.813379     6.088644     6.091837   \n",
       "min    2018.000000     1.000000     1.000000     7.000000     7.000000   \n",
       "25%    2019.000000     4.000000     8.000000    23.000000    23.000000   \n",
       "50%    2020.000000     6.000000    16.000000    28.000000    28.000000   \n",
       "75%    2022.000000     9.000000    23.000000    33.000000    33.000000   \n",
       "max    2023.000000    12.000000    31.000000    39.000000    39.000000   \n",
       "\n",
       "          avg_temp       actual        guess  \n",
       "count  1862.000000  1862.000000  1862.000000  \n",
       "mean     23.615736    27.482277    19.749194  \n",
       "std       5.939911     6.095731     6.047540  \n",
       "min       5.500000     7.000000     2.000000  \n",
       "25%      19.000000    23.000000    15.000000  \n",
       "50%      24.500000    28.000000    21.000000  \n",
       "75%      29.000000    33.000000    25.000000  \n",
       "max      33.500000    39.000000    29.000000  "
      ]
     },
     "execution_count": 4,
     "metadata": {},
     "output_type": "execute_result"
    }
   ],
   "source": [
    "# 统计指标\n",
    "df.describe()"
   ]
  },
  {
   "cell_type": "code",
   "execution_count": 5,
   "metadata": {},
   "outputs": [],
   "source": [
    "# 处理时间数据\n",
    "import datetime\n",
    "\n",
    "# 分别得到年，月，日\n",
    "years = df['year']\n",
    "months = df['month']\n",
    "days = df['day']\n",
    "\n",
    "# datetime格式\n",
    "dates = [str(int(year)) + '-' + str(int(month)) + '-' + str(int(day)) for year, month, day in zip(years, months, days)]\n",
    "dates = [datetime.datetime.strptime(date, '%Y-%m-%d') for date in dates]"
   ]
  },
  {
   "cell_type": "code",
   "execution_count": 6,
   "metadata": {},
   "outputs": [
    {
     "data": {
      "text/plain": [
       "[datetime.datetime(2018, 5, 1, 0, 0),\n",
       " datetime.datetime(2018, 5, 2, 0, 0),\n",
       " datetime.datetime(2018, 5, 3, 0, 0),\n",
       " datetime.datetime(2018, 5, 4, 0, 0),\n",
       " datetime.datetime(2018, 5, 5, 0, 0)]"
      ]
     },
     "execution_count": 6,
     "metadata": {},
     "output_type": "execute_result"
    }
   ],
   "source": [
    "dates[:5]"
   ]
  },
  {
   "cell_type": "code",
   "execution_count": 7,
   "metadata": {},
   "outputs": [
    {
     "data": {
      "image/png": "[encoded data removed]",
      "text/plain": [
       "<Figure size 720x720 with 4 Axes>"
      ]
     },
     "metadata": {},
     "output_type": "display_data"
    }
   ],
   "source": [
    "# 准备画图\n",
    "import matplotlib.pyplot as plt\n",
    "\n",
    "%matplotlib inline\n",
    "\n",
    "# 指定默认风格\n",
    "plt.style.use('fivethirtyeight')# 设置布局\n",
    "fig, ((ax1, ax2), (ax3, ax4)) = plt.subplots(nrows=2, ncols=2, figsize = (10,10))\n",
    "fig.autofmt_xdate(rotation = 45)\n",
    "\n",
    "# 标签值\n",
    "ax1.plot(dates, df['actual'])\n",
    "ax1.set_xlabel(''); ax1.set_ylabel('Temperature'); ax1.set_title('实际最高温度')\n",
    "\n",
    "# 昨天\n",
    "ax2.plot(dates, df['temp_1'])\n",
    "ax2.set_xlabel(''); ax2.set_ylabel('Temperature'); ax2.set_title('昨天最高温度')\n",
    "\n",
    "# 前天\n",
    "ax3.plot(dates, df['temp_2'])\n",
    "ax3.set_xlabel('Date'); ax3.set_ylabel('Temperature'); ax3.set_title('前天最高温度')\n",
    "\n",
    "# 猜测的温度\n",
    "ax4.plot(dates, df['guess'])\n",
    "ax4.set_xlabel('Date'); ax4.set_ylabel('Temperature'); ax4.set_title('猜测的温度')\n",
    "\n",
    "plt.tight_layout(pad=2)"
   ]
  },
  {
   "cell_type": "code",
   "execution_count": 8,
   "metadata": {},
   "outputs": [
    {
     "data": {
      "text/html": [
       "<div>\n",
       "<style scoped>\n",
       "    .dataframe tbody tr th:only-of-type {\n",
       "        vertical-align: middle;\n",
       "    }\n",
       "\n",
       "    .dataframe tbody tr th {\n",
       "        vertical-align: top;\n",
       "    }\n",
       "\n",
       "    .dataframe thead th {\n",
       "        text-align: right;\n",
       "    }\n",
       "</style>\n",
       "<table border=\"1\" class=\"dataframe\">\n",
       "  <thead>\n",
       "    <tr style=\"text-align: right;\">\n",
       "      <th></th>\n",
       "      <th>year</th>\n",
       "      <th>month</th>\n",
       "      <th>day</th>\n",
       "      <th>temp_2</th>\n",
       "      <th>temp_1</th>\n",
       "      <th>avg_temp</th>\n",
       "      <th>actual</th>\n",
       "      <th>guess</th>\n",
       "      <th>weekday_Friday</th>\n",
       "      <th>weekday_Monday</th>\n",
       "      <th>weekday_Saturday</th>\n",
       "      <th>weekday_Sunday</th>\n",
       "      <th>weekday_Thursday</th>\n",
       "      <th>weekday_Tuesday</th>\n",
       "      <th>weekday_Wednesday</th>\n",
       "    </tr>\n",
       "  </thead>\n",
       "  <tbody>\n",
       "    <tr>\n",
       "      <th>0</th>\n",
       "      <td>2018</td>\n",
       "      <td>5</td>\n",
       "      <td>1</td>\n",
       "      <td>28</td>\n",
       "      <td>29</td>\n",
       "      <td>27.0</td>\n",
       "      <td>30</td>\n",
       "      <td>24</td>\n",
       "      <td>0</td>\n",
       "      <td>0</td>\n",
       "      <td>0</td>\n",
       "      <td>0</td>\n",
       "      <td>0</td>\n",
       "      <td>1</td>\n",
       "      <td>0</td>\n",
       "    </tr>\n",
       "    <tr>\n",
       "      <th>1</th>\n",
       "      <td>2018</td>\n",
       "      <td>5</td>\n",
       "      <td>2</td>\n",
       "      <td>29</td>\n",
       "      <td>30</td>\n",
       "      <td>27.0</td>\n",
       "      <td>31</td>\n",
       "      <td>23</td>\n",
       "      <td>0</td>\n",
       "      <td>0</td>\n",
       "      <td>0</td>\n",
       "      <td>0</td>\n",
       "      <td>0</td>\n",
       "      <td>0</td>\n",
       "      <td>1</td>\n",
       "    </tr>\n",
       "    <tr>\n",
       "      <th>2</th>\n",
       "      <td>2018</td>\n",
       "      <td>5</td>\n",
       "      <td>3</td>\n",
       "      <td>30</td>\n",
       "      <td>31</td>\n",
       "      <td>26.5</td>\n",
       "      <td>30</td>\n",
       "      <td>23</td>\n",
       "      <td>0</td>\n",
       "      <td>0</td>\n",
       "      <td>0</td>\n",
       "      <td>0</td>\n",
       "      <td>1</td>\n",
       "      <td>0</td>\n",
       "      <td>0</td>\n",
       "    </tr>\n",
       "    <tr>\n",
       "      <th>3</th>\n",
       "      <td>2018</td>\n",
       "      <td>5</td>\n",
       "      <td>4</td>\n",
       "      <td>31</td>\n",
       "      <td>30</td>\n",
       "      <td>24.5</td>\n",
       "      <td>27</td>\n",
       "      <td>22</td>\n",
       "      <td>1</td>\n",
       "      <td>0</td>\n",
       "      <td>0</td>\n",
       "      <td>0</td>\n",
       "      <td>0</td>\n",
       "      <td>0</td>\n",
       "      <td>0</td>\n",
       "    </tr>\n",
       "    <tr>\n",
       "      <th>4</th>\n",
       "      <td>2018</td>\n",
       "      <td>5</td>\n",
       "      <td>5</td>\n",
       "      <td>30</td>\n",
       "      <td>27</td>\n",
       "      <td>27.0</td>\n",
       "      <td>30</td>\n",
       "      <td>24</td>\n",
       "      <td>0</td>\n",
       "      <td>0</td>\n",
       "      <td>1</td>\n",
       "      <td>0</td>\n",
       "      <td>0</td>\n",
       "      <td>0</td>\n",
       "      <td>0</td>\n",
       "    </tr>\n",
       "  </tbody>\n",
       "</table>\n",
       "</div>"
      ],
      "text/plain": [
       "   year  month  day  temp_2  temp_1  avg_temp  actual  guess  weekday_Friday  \\\n",
       "0  2018      5    1      28      29      27.0      30     24               0   \n",
       "1  2018      5    2      29      30      27.0      31     23               0   \n",
       "2  2018      5    3      30      31      26.5      30     23               0   \n",
       "3  2018      5    4      31      30      24.5      27     22               1   \n",
       "4  2018      5    5      30      27      27.0      30     24               0   \n",
       "\n",
       "   weekday_Monday  weekday_Saturday  weekday_Sunday  weekday_Thursday  \\\n",
       "0               0                 0               0                 0   \n",
       "1               0                 0               0                 0   \n",
       "2               0                 0               0                 1   \n",
       "3               0                 0               0                 0   \n",
       "4               0                 1               0                 0   \n",
       "\n",
       "   weekday_Tuesday  weekday_Wednesday  \n",
       "0                1                  0  \n",
       "1                0                  1  \n",
       "2                0                  0  \n",
       "3                0                  0  \n",
       "4                0                  0  "
      ]
     },
     "execution_count": 8,
     "metadata": {},
     "output_type": "execute_result"
    }
   ],
   "source": [
    "# 独热编码\n",
    "df = pd.get_dummies(df)\n",
    "df.head(5)"
   ]
  },
  {
   "cell_type": "code",
   "execution_count": 9,
   "metadata": {},
   "outputs": [
    {
     "name": "stdout",
     "output_type": "stream",
     "text": [
      "Shape of df after one-hot encoding: (1862, 15)\n"
     ]
    }
   ],
   "source": [
    "print('Shape of df after one-hot encoding:', df.shape)"
   ]
  },
  {
   "cell_type": "code",
   "execution_count": 10,
   "metadata": {},
   "outputs": [
    {
     "data": {
      "text/plain": [
       "pandas.core.frame.DataFrame"
      ]
     },
     "execution_count": 10,
     "metadata": {},
     "output_type": "execute_result"
    }
   ],
   "source": [
    "type(df)"
   ]
  },
  {
   "cell_type": "code",
   "execution_count": 11,
   "metadata": {},
   "outputs": [
    {
     "data": {
      "text/plain": [
       "array([[2.018e+03, 5.000e+00, 1.000e+00, ..., 0.000e+00, 1.000e+00,\n",
       "        0.000e+00],\n",
       "       [2.018e+03, 5.000e+00, 2.000e+00, ..., 0.000e+00, 0.000e+00,\n",
       "        1.000e+00],\n",
       "       [2.018e+03, 5.000e+00, 3.000e+00, ..., 1.000e+00, 0.000e+00,\n",
       "        0.000e+00],\n",
       "       ...,\n",
       "       [2.023e+03, 5.000e+00, 2.900e+01, ..., 0.000e+00, 0.000e+00,\n",
       "        0.000e+00],\n",
       "       [2.023e+03, 5.000e+00, 3.000e+01, ..., 0.000e+00, 1.000e+00,\n",
       "        0.000e+00],\n",
       "       [2.023e+03, 5.000e+00, 3.100e+01, ..., 0.000e+00, 0.000e+00,\n",
       "        1.000e+00]])"
      ]
     },
     "execution_count": 11,
     "metadata": {},
     "output_type": "execute_result"
    }
   ],
   "source": [
    "# 数据与标签\n",
    "import numpy as np\n",
    "\n",
    "# 标签\n",
    "labels = np.array(df['actual'])\n",
    "\n",
    "# 在特征中去掉标签\n",
    "df= df.drop('actual', axis = 1)\n",
    "\n",
    "# 名字单独保存一下，以备后患\n",
    "df_list = list(df.columns)\n",
    "\n",
    "# 转换成合适的格式\n",
    "df = np.array(df)\n",
    "df"
   ]
  },
  {
   "cell_type": "code",
   "execution_count": 13,
   "metadata": {},
   "outputs": [],
   "source": [
    "# 数据集切分\n",
    "from sklearn.model_selection import train_test_split\n",
    "\n",
    "train_df, test_df, train_labels, test_labels = train_test_split(df, labels, test_size = 0.25, random_state = 42)"
   ]
  },
  {
   "cell_type": "code",
   "execution_count": 14,
   "metadata": {},
   "outputs": [
    {
     "name": "stdout",
     "output_type": "stream",
     "text": [
      "训练集特征: (1396, 14)\n",
      "训练集标签: (1396,)\n",
      "测试集特征: (466, 14)\n",
      "测试集标签: (466,)\n"
     ]
    }
   ],
   "source": [
    "print('训练集特征:', train_df.shape)\n",
    "print('训练集标签:', train_labels.shape)\n",
    "print('测试集特征:', test_df.shape)\n",
    "print('测试集标签:', test_labels.shape)"
   ]
  },
  {
   "cell_type": "code",
   "execution_count": 15,
   "metadata": {},
   "outputs": [
    {
     "data": {
      "text/plain": [
       "RandomForestRegressor(n_estimators=1000, random_state=42)"
      ]
     },
     "execution_count": 15,
     "metadata": {},
     "output_type": "execute_result"
    }
   ],
   "source": [
    "# 导入算法\n",
    "from sklearn.ensemble import RandomForestRegressor\n",
    "\n",
    "# 建模\n",
    "rf = RandomForestRegressor(n_estimators= 1000, random_state=42)\n",
    "\n",
    "# 训练\n",
    "rf.fit(train_df, train_labels)"
   ]
  },
  {
   "cell_type": "code",
   "execution_count": 16,
   "metadata": {},
   "outputs": [
    {
     "name": "stdout",
     "output_type": "stream",
     "text": [
      "MAPE: 0.9369472985583546\n"
     ]
    }
   ],
   "source": [
    "# 预测结果\n",
    "predictions = rf.predict(test_df)\n",
    "\n",
    "# 计算误差\n",
    "errors = abs(predictions - test_labels)\n",
    "\n",
    "# mean absolute percentage error (MAPE)\n",
    "mape = 100 * (errors / test_labels)\n",
    "\n",
    "print ('MAPE:',np.mean(mape))"
   ]
  },
  {
   "cell_type": "code",
   "execution_count": 17,
   "metadata": {},
   "outputs": [],
   "source": [
    "# 导入所需工具包\n",
    "from sklearn.tree import export_graphviz\n",
    "import pydot #pip install pydot\n",
    "\n",
    "# 拿到其中的一棵树\n",
    "tree = rf.estimators_[5]\n",
    "\n",
    "# 导出成dot文件\n",
    "export_graphviz(tree, out_file = 'tree.dot', feature_names = df_list, rounded = True, precision = 1)\n",
    "\n",
    "# 绘图\n",
    "(graph, ) = pydot.graph_from_dot_file('tree.dot')\n",
    "\n",
    "# 展示\n",
    "graph.write_png('tree.png'); "
   ]
  },
  {
   "cell_type": "code",
   "execution_count": 18,
   "metadata": {},
   "outputs": [
    {
     "name": "stdout",
     "output_type": "stream",
     "text": [
      "The depth of this tree is: 14\n"
     ]
    }
   ],
   "source": [
    "print('The depth of this tree is:', tree.tree_.max_depth)"
   ]
  },
  {
   "cell_type": "code",
   "execution_count": 20,
   "metadata": {},
   "outputs": [],
   "source": [
    "# 限制一下树模型\n",
    "rf_small = RandomForestRegressor(n_estimators=10, max_depth = 3, random_state=42)\n",
    "rf_small.fit(train_df, train_labels)\n",
    "\n",
    "# 提取一颗树\n",
    "tree_small = rf_small.estimators_[5]\n",
    "\n",
    "# 保存\n",
    "export_graphviz(tree_small, out_file = 'small_tree.dot', feature_names = df_list, rounded = True, precision = 1)\n",
    "\n",
    "(graph, ) = pydot.graph_from_dot_file('small_tree.dot')\n",
    "\n",
    "graph.write_png('small_tree.png');"
   ]
  },
  {
   "cell_type": "code",
   "execution_count": 22,
   "metadata": {},
   "outputs": [
    {
     "name": "stdout",
     "output_type": "stream",
     "text": [
      "Variable: avg_temp             Importance: 0.97\n",
      "Variable: guess                Importance: 0.02\n",
      "Variable: year                 Importance: 0.0\n",
      "Variable: month                Importance: 0.0\n",
      "Variable: day                  Importance: 0.0\n",
      "Variable: temp_2               Importance: 0.0\n",
      "Variable: temp_1               Importance: 0.0\n",
      "Variable: weekday_Friday       Importance: 0.0\n",
      "Variable: weekday_Monday       Importance: 0.0\n",
      "Variable: weekday_Saturday     Importance: 0.0\n",
      "Variable: weekday_Sunday       Importance: 0.0\n",
      "Variable: weekday_Thursday     Importance: 0.0\n",
      "Variable: weekday_Tuesday      Importance: 0.0\n",
      "Variable: weekday_Wednesday    Importance: 0.0\n"
     ]
    },
    {
     "data": {
      "text/plain": [
       "[None,\n",
       " None,\n",
       " None,\n",
       " None,\n",
       " None,\n",
       " None,\n",
       " None,\n",
       " None,\n",
       " None,\n",
       " None,\n",
       " None,\n",
       " None,\n",
       " None,\n",
       " None]"
      ]
     },
     "execution_count": 22,
     "metadata": {},
     "output_type": "execute_result"
    }
   ],
   "source": [
    "# 得到特征重要性\n",
    "importances = list(rf.feature_importances_)\n",
    "\n",
    "# 转换格式\n",
    "feature_importances = [(feature, round(importance, 2)) for feature, importance in zip(df_list, importances)]\n",
    "\n",
    "# 排序\n",
    "feature_importances = sorted(feature_importances, key = lambda x: x[1], reverse = True)\n",
    "\n",
    "# 对应进行打印\n",
    "[print('Variable: {:20} Importance: {}'.format(*pair)) for pair in feature_importances]"
   ]
  },
  {
   "cell_type": "code",
   "execution_count": 27,
   "metadata": {},
   "outputs": [
    {
     "name": "stdout",
     "output_type": "stream",
     "text": [
      "mape: 3.8606794068555748\n"
     ]
    }
   ],
   "source": [
    "# 选择最重要的那两个特征来试一试\n",
    "rf_most_important = RandomForestRegressor(n_estimators= 1000, random_state=42)\n",
    "\n",
    "# 拿到这俩特征\n",
    "important_indices = [df_list.index('temp_1'), df_list.index('avg_temp')]\n",
    "train_important = train_df[:, important_indices]\n",
    "test_important = test_df[:, important_indices]\n",
    "\n",
    "# 重新训练模型\n",
    "rf_most_important.fit(train_important, train_labels)\n",
    "\n",
    "# 预测结果\n",
    "predictions = rf_most_important.predict(test_important)\n",
    "\n",
    "errors = abs(predictions - test_labels)\n",
    "\n",
    "# 评估结果\n",
    "\n",
    "mape = np.mean(100 * (errors / test_labels))\n",
    "\n",
    "print('mape:', mape)"
   ]
  },
  {
   "cell_type": "code",
   "execution_count": 28,
   "metadata": {},
   "outputs": [
    {
     "data": {
      "image/png": "[encoded data removed]",
      "text/plain": [
       "<Figure size 432x288 with 1 Axes>"
      ]
     },
     "metadata": {},
     "output_type": "display_data"
    }
   ],
   "source": [
    "# 转换成list格式\n",
    "x_values = list(range(len(importances)))\n",
    "\n",
    "# 绘图\n",
    "plt.bar(x_values, importances, orientation = 'vertical')\n",
    "\n",
    "# x轴名字\n",
    "plt.xticks(x_values, df_list, rotation='vertical')\n",
    "\n",
    "# 图名\n",
    "plt.ylabel('Importance'); plt.xlabel('Variable'); plt.title('Variable Importances'); "
   ]
  },
  {
   "cell_type": "code",
   "execution_count": 30,
   "metadata": {},
   "outputs": [],
   "source": [
    "# 预测值与真实值之间的差异\n",
    "\n",
    "# 日期数据\n",
    "months = df[:, df_list.index('month')]\n",
    "days = df[:, df_list.index('day')]\n",
    "years = df[:, df_list.index('year')]\n",
    "\n",
    "# 转换日期格式\n",
    "dates = [str(int(year)) + '-' + str(int(month)) + '-' + str(int(day)) for year, month, day in zip(years, months, days)]\n",
    "dates = [datetime.datetime.strptime(date, '%Y-%m-%d') for date in dates]\n",
    "\n",
    "# 创建一个表格来存日期和其对应的标签数值\n",
    "true_data = pd.DataFrame(data = {'date': dates, 'actual': labels})\n",
    "\n",
    "# 同理，再创建一个来存日期和其对应的模型预测值\n",
    "months = test_df[:, df_list.index('month')]\n",
    "days = test_df[:, df_list.index('day')]\n",
    "years = test_df[:, df_list.index('year')]\n",
    "\n",
    "test_dates = [str(int(year)) + '-' + str(int(month)) + '-' + str(int(day)) for year, month, day in zip(years, months, days)]\n",
    "\n",
    "test_dates = [datetime.datetime.strptime(date, '%Y-%m-%d') for date in test_dates]\n",
    "\n",
    "predictions_data = pd.DataFrame(data = {'date': test_dates, 'prediction': predictions}) "
   ]
  },
  {
   "cell_type": "code",
   "execution_count": 31,
   "metadata": {},
   "outputs": [
    {
     "data": {
      "image/png": "[encoded data removed]",
      "text/plain": [
       "<Figure size 432x288 with 1 Axes>"
      ]
     },
     "metadata": {},
     "output_type": "display_data"
    }
   ],
   "source": [
    "# 真实值\n",
    "plt.plot(true_data['date'], true_data['actual'], 'b-', label = 'actual')\n",
    "\n",
    "# 预测值\n",
    "plt.plot(predictions_data['date'], predictions_data['prediction'], 'ro', label = 'prediction')\n",
    "plt.xticks(rotation = '60'); \n",
    "plt.legend()\n",
    "\n",
    "# 图名\n",
    "plt.xlabel('Date'); plt.ylabel('Maximum Temperature (F)'); plt.title('Actual and Predicted Values');\n"
   ]
  }
 ],
 "metadata": {
  "kernelspec": {
   "display_name": "Python 3",
   "language": "python",
   "name": "python3"
  },
  "language_info": {
   "codemirror_mode": {
    "name": "ipython",
    "version": 3
   },
   "file_extension": ".py",
   "mimetype": "text/x-python",
   "name": "python",
   "nbconvert_exporter": "python",
   "pygments_lexer": "ipython3",
   "version": "3.8.3"
  }
 },
 "nbformat": 4,
 "nbformat_minor": 4
}
